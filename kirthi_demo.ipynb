{
  "nbformat": 4,
  "nbformat_minor": 0,
  "metadata": {
    "colab": {
      "name": "kirthi demo.ipynb",
      "provenance": [],
      "collapsed_sections": [],
      "authorship_tag": "ABX9TyMO9IrBZkoJwaug9yQ75gcy",
      "include_colab_link": true
    },
    "kernelspec": {
      "name": "python3",
      "display_name": "Python 3"
    }
  },
  "cells": [
    {
      "cell_type": "markdown",
      "metadata": {
        "id": "view-in-github",
        "colab_type": "text"
      },
      "source": [
        "<a href=\"https://colab.research.google.com/github/kirthanard/data-science/blob/master/kirthi_demo.ipynb\" target=\"_parent\"><img src=\"https://colab.research.google.com/assets/colab-badge.svg\" alt=\"Open In Colab\"/></a>"
      ]
    },
    {
      "cell_type": "code",
      "metadata": {
        "id": "EUfTBKuX_1sq"
      },
      "source": [
        "import pandas as pd\r\n"
      ],
      "execution_count": null,
      "outputs": []
    },
    {
      "cell_type": "code",
      "metadata": {
        "id": "6NbPChd4_7Ce"
      },
      "source": [
        "import pandas as pd\r\n",
        "from sklearn.tree import DecisionTreeClassifier # Import Decision Tree Classifier\r\n",
        "from sklearn.model_selection import train_test_split # Import train_test_split function\r\n",
        "from sklearn import metrics #Import scikit-learn metrics module for accuracy calculation\r\n",
        "import time"
      ],
      "execution_count": null,
      "outputs": []
    },
    {
      "cell_type": "code",
      "metadata": {
        "id": "E5WPRa3U__7d"
      },
      "source": [
        "col_names = ['pregnant', 'glucose', 'bp', 'skin', 'insulin', 'bmi', 'pedigree', 'age', 'label']\r\n",
        "df = pd.read_csv(\"/diabetes.csv\", header=None, names=col_names)"
      ],
      "execution_count": null,
      "outputs": []
    },
    {
      "cell_type": "code",
      "metadata": {
        "colab": {
          "base_uri": "https://localhost:8080/",
          "height": 141
        },
        "id": "89fWeKzoBFTT",
        "outputId": "f26872b2-24d5-427e-dacc-988a4026f087"
      },
      "source": [
        "df.head(3)"
      ],
      "execution_count": null,
      "outputs": [
        {
          "output_type": "execute_result",
          "data": {
            "text/html": [
              "<div>\n",
              "<style scoped>\n",
              "    .dataframe tbody tr th:only-of-type {\n",
              "        vertical-align: middle;\n",
              "    }\n",
              "\n",
              "    .dataframe tbody tr th {\n",
              "        vertical-align: top;\n",
              "    }\n",
              "\n",
              "    .dataframe thead th {\n",
              "        text-align: right;\n",
              "    }\n",
              "</style>\n",
              "<table border=\"1\" class=\"dataframe\">\n",
              "  <thead>\n",
              "    <tr style=\"text-align: right;\">\n",
              "      <th></th>\n",
              "      <th>pregnant</th>\n",
              "      <th>glucose</th>\n",
              "      <th>bp</th>\n",
              "      <th>skin</th>\n",
              "      <th>insulin</th>\n",
              "      <th>bmi</th>\n",
              "      <th>pedigree</th>\n",
              "      <th>age</th>\n",
              "      <th>label</th>\n",
              "    </tr>\n",
              "  </thead>\n",
              "  <tbody>\n",
              "    <tr>\n",
              "      <th>0</th>\n",
              "      <td>6</td>\n",
              "      <td>148</td>\n",
              "      <td>72</td>\n",
              "      <td>35</td>\n",
              "      <td>0</td>\n",
              "      <td>33.6</td>\n",
              "      <td>0.627</td>\n",
              "      <td>50</td>\n",
              "      <td>1</td>\n",
              "    </tr>\n",
              "    <tr>\n",
              "      <th>1</th>\n",
              "      <td>1</td>\n",
              "      <td>85</td>\n",
              "      <td>66</td>\n",
              "      <td>29</td>\n",
              "      <td>0</td>\n",
              "      <td>26.6</td>\n",
              "      <td>0.351</td>\n",
              "      <td>31</td>\n",
              "      <td>0</td>\n",
              "    </tr>\n",
              "    <tr>\n",
              "      <th>2</th>\n",
              "      <td>8</td>\n",
              "      <td>183</td>\n",
              "      <td>64</td>\n",
              "      <td>0</td>\n",
              "      <td>0</td>\n",
              "      <td>23.3</td>\n",
              "      <td>0.672</td>\n",
              "      <td>32</td>\n",
              "      <td>1</td>\n",
              "    </tr>\n",
              "  </tbody>\n",
              "</table>\n",
              "</div>"
            ],
            "text/plain": [
              "   pregnant  glucose  bp  skin  insulin   bmi  pedigree  age  label\n",
              "0         6      148  72    35        0  33.6     0.627   50      1\n",
              "1         1       85  66    29        0  26.6     0.351   31      0\n",
              "2         8      183  64     0        0  23.3     0.672   32      1"
            ]
          },
          "metadata": {
            "tags": []
          },
          "execution_count": 6
        }
      ]
    },
    {
      "cell_type": "code",
      "metadata": {
        "id": "FR9lJV3JAOQG"
      },
      "source": [
        "feature_cols = ['pregnant', 'insulin', 'bmi', 'age','glucose','bp','pedigree']\n",
        "X = df[feature_cols] # Features\n",
        "y = df.label # Target variable"
      ],
      "execution_count": null,
      "outputs": []
    },
    {
      "cell_type": "code",
      "metadata": {
        "colab": {
          "base_uri": "https://localhost:8080/"
        },
        "id": "BvyFM54JBMxH",
        "outputId": "ccd8caad-d05d-4741-ad9c-54a8bf9b62f9"
      },
      "source": [
        "len(X)"
      ],
      "execution_count": null,
      "outputs": [
        {
          "output_type": "execute_result",
          "data": {
            "text/plain": [
              "1300"
            ]
          },
          "metadata": {
            "tags": []
          },
          "execution_count": 9
        }
      ]
    },
    {
      "cell_type": "code",
      "metadata": {
        "id": "AR9FJmVDBbGX"
      },
      "source": [
        "X_train, X_test, y_train, y_test = train_test_split(X, y, test_size=0.3, random_state=1) "
      ],
      "execution_count": null,
      "outputs": []
    },
    {
      "cell_type": "code",
      "metadata": {
        "colab": {
          "base_uri": "https://localhost:8080/"
        },
        "id": "pkBki0qBBe63",
        "outputId": "47ab78f1-3204-4bf4-f508-1d91aec24f7e"
      },
      "source": [
        "a=time.time()\r\n",
        "clf = DecisionTreeClassifier(criterion=\"gini\", max_depth=88888)\r\n",
        "clf = clf.fit(X_train,y_train)\r\n",
        "b=time.time()\r\n",
        "t=b-a\r\n",
        "print(\"Time taken\",t,\"sec\")"
      ],
      "execution_count": null,
      "outputs": [
        {
          "output_type": "stream",
          "text": [
            "Time taken 0.008702754974365234 sec\n"
          ],
          "name": "stdout"
        }
      ]
    },
    {
      "cell_type": "code",
      "metadata": {
        "colab": {
          "base_uri": "https://localhost:8080/"
        },
        "id": "Iek7ZwR0Btd2",
        "outputId": "4e2c804a-f985-47da-ee42-635893ebd8ab"
      },
      "source": [
        "y_pred = clf.predict(X_test)\r\n",
        "print(\"Accuracy:\",metrics.accuracy_score(y_test, y_pred))"
      ],
      "execution_count": null,
      "outputs": [
        {
          "output_type": "stream",
          "text": [
            "Accuracy: 0.9076923076923077\n"
          ],
          "name": "stdout"
        }
      ]
    },
    {
      "cell_type": "code",
      "metadata": {
        "colab": {
          "base_uri": "https://localhost:8080/"
        },
        "id": "RSgoN-E7Bwt6",
        "outputId": "740f8feb-b20d-45b1-d465-bc8468dc7797"
      },
      "source": [
        "from sklearn import metrics\r\n",
        "expected_y  = y_test\r\n",
        "print(); print(metrics.classification_report(expected_y, y_pred))\r\n",
        "print(); print(metrics.confusion_matrix(expected_y,y_pred))\r\n",
        "print(\"Accuracy:  \",metrics.accuracy_score(expected_y, y_pred))"
      ],
      "execution_count": null,
      "outputs": [
        {
          "output_type": "stream",
          "text": [
            "\n",
            "              precision    recall  f1-score   support\n",
            "\n",
            "           0       0.94      0.92      0.93       256\n",
            "           1       0.85      0.89      0.87       134\n",
            "\n",
            "    accuracy                           0.91       390\n",
            "   macro avg       0.90      0.90      0.90       390\n",
            "weighted avg       0.91      0.91      0.91       390\n",
            "\n",
            "\n",
            "[[235  21]\n",
            " [ 15 119]]\n",
            "Accuracy:   0.9076923076923077\n"
          ],
          "name": "stdout"
        }
      ]
    },
    {
      "cell_type": "code",
      "metadata": {
        "id": "xg4_HEXBB3UC"
      },
      "source": [
        "col_names = ['pregnant', 'glucose', 'bp', 'skin', 'insulin', 'bmi', 'pedigree', 'age', 'label']\r\n",
        "df1 = pd.read_csv(\"/diabetes_5000.csv\", header=None, names=col_names)"
      ],
      "execution_count": null,
      "outputs": []
    },
    {
      "cell_type": "code",
      "metadata": {
        "id": "NNeIiqOMCH08"
      },
      "source": [
        "feature_cols = ['pregnant', 'insulin', 'bmi', 'age','glucose','bp','pedigree']\r\n",
        "X = df1[feature_cols] # Features\r\n",
        "y = df1.label # Target variable"
      ],
      "execution_count": null,
      "outputs": []
    },
    {
      "cell_type": "code",
      "metadata": {
        "id": "yMoV-RsbCMhT"
      },
      "source": [
        "X_train, X_test, y_train, y_test = train_test_split(X, y, test_size=0.3, random_state=1) "
      ],
      "execution_count": null,
      "outputs": []
    },
    {
      "cell_type": "code",
      "metadata": {
        "colab": {
          "base_uri": "https://localhost:8080/"
        },
        "id": "krLtc-L9COAk",
        "outputId": "24aaccb5-49cd-46c8-9fb4-4b11707a9e19"
      },
      "source": [
        "a=time.time()\r\n",
        "clf = DecisionTreeClassifier(criterion=\"gini\", max_depth=1)\r\n",
        "clf = clf.fit(X_train,y_train)\r\n",
        "b=time.time()\r\n",
        "t=b-a\r\n",
        "print(\"Time taken\",t,\"sec\")"
      ],
      "execution_count": null,
      "outputs": [
        {
          "output_type": "stream",
          "text": [
            "Time taken 0.007938146591186523 sec\n"
          ],
          "name": "stdout"
        }
      ]
    },
    {
      "cell_type": "code",
      "metadata": {
        "colab": {
          "base_uri": "https://localhost:8080/"
        },
        "id": "waunn4zfCSkZ",
        "outputId": "5a894510-34b3-4c0e-c621-0e4b530e2747"
      },
      "source": [
        "y_pred = clf.predict(X_test)\r\n",
        "print(\"Accuracy:\",metrics.accuracy_score(y_test, y_pred))"
      ],
      "execution_count": null,
      "outputs": [
        {
          "output_type": "stream",
          "text": [
            "Accuracy: 0.7288461538461538\n"
          ],
          "name": "stdout"
        }
      ]
    },
    {
      "cell_type": "code",
      "metadata": {
        "colab": {
          "base_uri": "https://localhost:8080/"
        },
        "id": "MKkbJE9aCWTh",
        "outputId": "e39655da-be4a-4fa4-8d18-e5efbd64e49d"
      },
      "source": [
        "from sklearn import metrics\r\n",
        "expected_y  = y_test\r\n",
        "print(); print(metrics.classification_report(expected_y, y_pred))\r\n",
        "print(); print(metrics.confusion_matrix(expected_y,y_pred))\r\n",
        "print(\"Accuracy:  \",metrics.accuracy_score(expected_y, y_pred))"
      ],
      "execution_count": null,
      "outputs": [
        {
          "output_type": "stream",
          "text": [
            "\n",
            "              precision    recall  f1-score   support\n",
            "\n",
            "           0       0.80      0.79      0.79      1021\n",
            "           1       0.61      0.62      0.61       539\n",
            "\n",
            "    accuracy                           0.73      1560\n",
            "   macro avg       0.70      0.70      0.70      1560\n",
            "weighted avg       0.73      0.73      0.73      1560\n",
            "\n",
            "\n",
            "[[805 216]\n",
            " [207 332]]\n",
            "Accuracy:   0.7288461538461538\n"
          ],
          "name": "stdout"
        }
      ]
    },
    {
      "cell_type": "code",
      "metadata": {
        "id": "N7UvBRjYCaUX"
      },
      "source": [
        "col_names = ['pregnant', 'glucose', 'bp', 'skin', 'insulin', 'bmi', 'pedigree', 'age', 'label']\r\n",
        "df2 = pd.read_csv(\"/diabetes_10000.csv\", header=None, names=col_names)"
      ],
      "execution_count": null,
      "outputs": []
    },
    {
      "cell_type": "code",
      "metadata": {
        "id": "KSjgwuVMCpKH"
      },
      "source": [
        "feature_cols = ['pregnant', 'insulin', 'bmi', 'age','glucose','bp','pedigree']\r\n",
        "X = df2[feature_cols] # Features\r\n",
        "y = df2.label # Target variable"
      ],
      "execution_count": null,
      "outputs": []
    },
    {
      "cell_type": "code",
      "metadata": {
        "id": "ZYQSqx6ACsEe"
      },
      "source": [
        "X_train, X_test, y_train, y_test = train_test_split(X, y, test_size=0.3, random_state=1) "
      ],
      "execution_count": null,
      "outputs": []
    },
    {
      "cell_type": "code",
      "metadata": {
        "colab": {
          "base_uri": "https://localhost:8080/"
        },
        "id": "TiOv1wnpCu5K",
        "outputId": "6e700570-bc13-49d6-f226-fe09dc15f900"
      },
      "source": [
        "a=time.time()\r\n",
        "clf = DecisionTreeClassifier(criterion=\"gini\", max_depth=1)\r\n",
        "clf = clf.fit(X_train,y_train)\r\n",
        "b=time.time()\r\n",
        "t=b-a\r\n",
        "print(\"Time taken\",t,\"sec\")"
      ],
      "execution_count": null,
      "outputs": [
        {
          "output_type": "stream",
          "text": [
            "Time taken 0.01086568832397461 sec\n"
          ],
          "name": "stdout"
        }
      ]
    },
    {
      "cell_type": "code",
      "metadata": {
        "colab": {
          "base_uri": "https://localhost:8080/"
        },
        "id": "3_WuYIHiCyD6",
        "outputId": "bdc88237-9667-42b7-cfa9-c9346873658f"
      },
      "source": [
        "y_pred = clf.predict(X_test)\r\n",
        "print(\"Accuracy:\",metrics.accuracy_score(y_test, y_pred))"
      ],
      "execution_count": null,
      "outputs": [
        {
          "output_type": "stream",
          "text": [
            "Accuracy: 0.7397435897435898\n"
          ],
          "name": "stdout"
        }
      ]
    },
    {
      "cell_type": "code",
      "metadata": {
        "colab": {
          "base_uri": "https://localhost:8080/"
        },
        "id": "oF0hvFcVC2QX",
        "outputId": "7bb79afb-9fa4-463d-d889-4d2bc08f80dd"
      },
      "source": [
        "from sklearn import metrics\r\n",
        "expected_y  = y_test\r\n",
        "print(); print(metrics.classification_report(expected_y, y_pred))\r\n",
        "print(); print(metrics.confusion_matrix(expected_y,y_pred))\r\n",
        "print(\"Accuracy:  \",metrics.accuracy_score(expected_y, y_pred))"
      ],
      "execution_count": null,
      "outputs": [
        {
          "output_type": "stream",
          "text": [
            "\n",
            "              precision    recall  f1-score   support\n",
            "\n",
            "           0       0.81      0.78      0.79      2016\n",
            "           1       0.62      0.67      0.65      1104\n",
            "\n",
            "    accuracy                           0.74      3120\n",
            "   macro avg       0.72      0.72      0.72      3120\n",
            "weighted avg       0.74      0.74      0.74      3120\n",
            "\n",
            "\n",
            "[[1568  448]\n",
            " [ 364  740]]\n",
            "Accuracy:   0.7397435897435898\n"
          ],
          "name": "stdout"
        }
      ]
    },
    {
      "cell_type": "code",
      "metadata": {
        "colab": {
          "base_uri": "https://localhost:8080/"
        },
        "id": "B9bxylEfErdC",
        "outputId": "5bd293cf-ae6e-47c3-ce0d-1366957dd954"
      },
      "source": [
        "y_pred = clf.predict(X_train)\r\n",
        "print(\"Accuracy:\",metrics.accuracy_score(y_train, y_pred))\r\n",
        "print(\"Training performance\")\r\n",
        "from sklearn import metrics\r\n",
        "expected_y  = y_train\r\n",
        "print(); print(metrics.classification_report(expected_y, y_pred))\r\n",
        "print(); print(metrics.confusion_matrix(expected_y,y_pred))\r\n",
        "print(\"Accuracy:  \",metrics.accuracy_score(expected_y, y_pred))"
      ],
      "execution_count": null,
      "outputs": [
        {
          "output_type": "stream",
          "text": [
            "Accuracy: 0.7368131868131869\n",
            "Training performance\n",
            "\n",
            "              precision    recall  f1-score   support\n",
            "\n",
            "           0       0.81      0.78      0.80      4792\n",
            "           1       0.61      0.65      0.63      2488\n",
            "\n",
            "    accuracy                           0.74      7280\n",
            "   macro avg       0.71      0.72      0.71      7280\n",
            "weighted avg       0.74      0.74      0.74      7280\n",
            "\n",
            "\n",
            "[[3752 1040]\n",
            " [ 876 1612]]\n",
            "Accuracy:   0.7368131868131869\n"
          ],
          "name": "stdout"
        }
      ]
    },
    {
      "cell_type": "code",
      "metadata": {
        "colab": {
          "base_uri": "https://localhost:8080/",
          "height": 350
        },
        "id": "B4JL7mo6F3CH",
        "outputId": "f24b9345-4c33-44a1-ca25-ed90ca948482"
      },
      "source": [
        "import matplotlib.pyplot as plt\r\n",
        "fig = plt.figure()\r\n",
        "ax = fig.add_axes([0,0,1,1])\r\n",
        "a = ['1000','5000','10000']\r\n",
        "b = [0.003,0.008,0.01]\r\n",
        "ax.bar(a,b)\r\n",
        "ax.set_xlabel('Instances of a dataset')\r\n",
        "ax.set_ylabel('Running time')\r\n",
        "\r\n",
        "plt.show()"
      ],
      "execution_count": null,
      "outputs": [
        {
          "output_type": "display_data",
          "data": {
            "image/png": "[encoded data removed]",
            "text/plain": [
              "<Figure size 432x288 with 1 Axes>"
            ]
          },
          "metadata": {
            "tags": [],
            "needs_background": "light"
          }
        }
      ]
    },
    {
      "cell_type": "markdown",
      "metadata": {
        "id": "e1pQq45NAdTW"
      },
      "source": [
        "# New Section"
      ]
    }
  ]
}