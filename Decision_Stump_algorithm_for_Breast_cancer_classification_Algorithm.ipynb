{
  "nbformat": 4,
  "nbformat_minor": 0,
  "metadata": {
    "colab": {
      "name": "Decision Stump algorithm for Breast cancer classification Algorithm.ipynb",
      "provenance": [],
      "collapsed_sections": [],
      "include_colab_link": true
    },
    "kernelspec": {
      "name": "python3",
      "display_name": "Python 3"
    }
  },
  "cells": [
    {
      "cell_type": "markdown",
      "metadata": {
        "id": "view-in-github",
        "colab_type": "text"
      },
      "source": [
        "<a href=\"https://colab.research.google.com/github/kirthanard/data-science/blob/main/Decision_Stump_algorithm_for_Breast_cancer_classification_Algorithm.ipynb\" target=\"_parent\"><img src=\"https://colab.research.google.com/assets/colab-badge.svg\" alt=\"Open In Colab\"/></a>"
      ]
    },
    {
      "cell_type": "code",
      "metadata": {
        "id": "TYpSQnapTqxB"
      },
      "source": [
        "import pandas as pd\r\n",
        "from sklearn.tree import DecisionTreeClassifier # Import Decision Tree Classifier\r\n",
        "from sklearn.model_selection import train_test_split \r\n",
        "from sklearn import metrics \r\n",
        "import time"
      ],
      "execution_count": null,
      "outputs": []
    },
    {
      "cell_type": "markdown",
      "metadata": {
        "id": "rFDPCZJu-_if"
      },
      "source": [
        "[link text](https://)1000 data points dataset with a minimum of 10 feature dimensions."
      ]
    },
    {
      "cell_type": "code",
      "metadata": {
        "id": "GA5tbY-oXmSu"
      },
      "source": [
        "df=pd.read_csv(\"/data.csv\")"
      ],
      "execution_count": null,
      "outputs": []
    },
    {
      "cell_type": "code",
      "metadata": {
        "colab": {
          "base_uri": "https://localhost:8080/",
          "height": 239
        },
        "id": "_x4T-TEpXtnR",
        "outputId": "0b9ce5b6-0201-4c62-d930-06e5d39b54b3"
      },
      "source": [
        "df.head(5)"
      ],
      "execution_count": null,
      "outputs": [
        {
          "output_type": "execute_result",
          "data": {
            "text/html": [
              "<div>\n",
              "<style scoped>\n",
              "    .dataframe tbody tr th:only-of-type {\n",
              "        vertical-align: middle;\n",
              "    }\n",
              "\n",
              "    .dataframe tbody tr th {\n",
              "        vertical-align: top;\n",
              "    }\n",
              "\n",
              "    .dataframe thead th {\n",
              "        text-align: right;\n",
              "    }\n",
              "</style>\n",
              "<table border=\"1\" class=\"dataframe\">\n",
              "  <thead>\n",
              "    <tr style=\"text-align: right;\">\n",
              "      <th></th>\n",
              "      <th>id</th>\n",
              "      <th>diagnosis</th>\n",
              "      <th>radius_mean</th>\n",
              "      <th>texture_mean</th>\n",
              "      <th>perimeter_mean</th>\n",
              "      <th>area_mean</th>\n",
              "      <th>smoothness_mean</th>\n",
              "      <th>compactness_mean</th>\n",
              "      <th>concavity_mean</th>\n",
              "      <th>concave points_mean</th>\n",
              "      <th>symmetry_mean</th>\n",
              "      <th>fractal_dimension_mean</th>\n",
              "      <th>radius_se</th>\n",
              "      <th>texture_se</th>\n",
              "      <th>perimeter_se</th>\n",
              "      <th>area_se</th>\n",
              "      <th>smoothness_se</th>\n",
              "      <th>compactness_se</th>\n",
              "      <th>concavity_se</th>\n",
              "      <th>concave points_se</th>\n",
              "      <th>symmetry_se</th>\n",
              "      <th>fractal_dimension_se</th>\n",
              "      <th>radius_worst</th>\n",
              "      <th>texture_worst</th>\n",
              "      <th>perimeter_worst</th>\n",
              "      <th>area_worst</th>\n",
              "      <th>smoothness_worst</th>\n",
              "      <th>compactness_worst</th>\n",
              "      <th>concavity_worst</th>\n",
              "      <th>concave points_worst</th>\n",
              "      <th>symmetry_worst</th>\n",
              "      <th>fractal_dimension_worst</th>\n",
              "    </tr>\n",
              "  </thead>\n",
              "  <tbody>\n",
              "    <tr>\n",
              "      <th>0</th>\n",
              "      <td>842302</td>\n",
              "      <td>M</td>\n",
              "      <td>17.99</td>\n",
              "      <td>10.38</td>\n",
              "      <td>122.80</td>\n",
              "      <td>1001.0</td>\n",
              "      <td>0.11840</td>\n",
              "      <td>0.27760</td>\n",
              "      <td>0.3001</td>\n",
              "      <td>0.14710</td>\n",
              "      <td>0.2419</td>\n",
              "      <td>0.07871</td>\n",
              "      <td>1.0950</td>\n",
              "      <td>0.9053</td>\n",
              "      <td>8.589</td>\n",
              "      <td>153.40</td>\n",
              "      <td>0.006399</td>\n",
              "      <td>0.04904</td>\n",
              "      <td>0.05373</td>\n",
              "      <td>0.01587</td>\n",
              "      <td>0.03003</td>\n",
              "      <td>0.006193</td>\n",
              "      <td>25.38</td>\n",
              "      <td>17.33</td>\n",
              "      <td>184.60</td>\n",
              "      <td>2019.0</td>\n",
              "      <td>0.1622</td>\n",
              "      <td>0.6656</td>\n",
              "      <td>0.7119</td>\n",
              "      <td>0.2654</td>\n",
              "      <td>0.4601</td>\n",
              "      <td>0.11890</td>\n",
              "    </tr>\n",
              "    <tr>\n",
              "      <th>1</th>\n",
              "      <td>842517</td>\n",
              "      <td>M</td>\n",
              "      <td>20.57</td>\n",
              "      <td>17.77</td>\n",
              "      <td>132.90</td>\n",
              "      <td>1326.0</td>\n",
              "      <td>0.08474</td>\n",
              "      <td>0.07864</td>\n",
              "      <td>0.0869</td>\n",
              "      <td>0.07017</td>\n",
              "      <td>0.1812</td>\n",
              "      <td>0.05667</td>\n",
              "      <td>0.5435</td>\n",
              "      <td>0.7339</td>\n",
              "      <td>3.398</td>\n",
              "      <td>74.08</td>\n",
              "      <td>0.005225</td>\n",
              "      <td>0.01308</td>\n",
              "      <td>0.01860</td>\n",
              "      <td>0.01340</td>\n",
              "      <td>0.01389</td>\n",
              "      <td>0.003532</td>\n",
              "      <td>24.99</td>\n",
              "      <td>23.41</td>\n",
              "      <td>158.80</td>\n",
              "      <td>1956.0</td>\n",
              "      <td>0.1238</td>\n",
              "      <td>0.1866</td>\n",
              "      <td>0.2416</td>\n",
              "      <td>0.1860</td>\n",
              "      <td>0.2750</td>\n",
              "      <td>0.08902</td>\n",
              "    </tr>\n",
              "    <tr>\n",
              "      <th>2</th>\n",
              "      <td>84300903</td>\n",
              "      <td>M</td>\n",
              "      <td>19.69</td>\n",
              "      <td>21.25</td>\n",
              "      <td>130.00</td>\n",
              "      <td>1203.0</td>\n",
              "      <td>0.10960</td>\n",
              "      <td>0.15990</td>\n",
              "      <td>0.1974</td>\n",
              "      <td>0.12790</td>\n",
              "      <td>0.2069</td>\n",
              "      <td>0.05999</td>\n",
              "      <td>0.7456</td>\n",
              "      <td>0.7869</td>\n",
              "      <td>4.585</td>\n",
              "      <td>94.03</td>\n",
              "      <td>0.006150</td>\n",
              "      <td>0.04006</td>\n",
              "      <td>0.03832</td>\n",
              "      <td>0.02058</td>\n",
              "      <td>0.02250</td>\n",
              "      <td>0.004571</td>\n",
              "      <td>23.57</td>\n",
              "      <td>25.53</td>\n",
              "      <td>152.50</td>\n",
              "      <td>1709.0</td>\n",
              "      <td>0.1444</td>\n",
              "      <td>0.4245</td>\n",
              "      <td>0.4504</td>\n",
              "      <td>0.2430</td>\n",
              "      <td>0.3613</td>\n",
              "      <td>0.08758</td>\n",
              "    </tr>\n",
              "    <tr>\n",
              "      <th>3</th>\n",
              "      <td>84348301</td>\n",
              "      <td>M</td>\n",
              "      <td>11.42</td>\n",
              "      <td>20.38</td>\n",
              "      <td>77.58</td>\n",
              "      <td>386.1</td>\n",
              "      <td>0.14250</td>\n",
              "      <td>0.28390</td>\n",
              "      <td>0.2414</td>\n",
              "      <td>0.10520</td>\n",
              "      <td>0.2597</td>\n",
              "      <td>0.09744</td>\n",
              "      <td>0.4956</td>\n",
              "      <td>1.1560</td>\n",
              "      <td>3.445</td>\n",
              "      <td>27.23</td>\n",
              "      <td>0.009110</td>\n",
              "      <td>0.07458</td>\n",
              "      <td>0.05661</td>\n",
              "      <td>0.01867</td>\n",
              "      <td>0.05963</td>\n",
              "      <td>0.009208</td>\n",
              "      <td>14.91</td>\n",
              "      <td>26.50</td>\n",
              "      <td>98.87</td>\n",
              "      <td>567.7</td>\n",
              "      <td>0.2098</td>\n",
              "      <td>0.8663</td>\n",
              "      <td>0.6869</td>\n",
              "      <td>0.2575</td>\n",
              "      <td>0.6638</td>\n",
              "      <td>0.17300</td>\n",
              "    </tr>\n",
              "    <tr>\n",
              "      <th>4</th>\n",
              "      <td>84358402</td>\n",
              "      <td>M</td>\n",
              "      <td>20.29</td>\n",
              "      <td>14.34</td>\n",
              "      <td>135.10</td>\n",
              "      <td>1297.0</td>\n",
              "      <td>0.10030</td>\n",
              "      <td>0.13280</td>\n",
              "      <td>0.1980</td>\n",
              "      <td>0.10430</td>\n",
              "      <td>0.1809</td>\n",
              "      <td>0.05883</td>\n",
              "      <td>0.7572</td>\n",
              "      <td>0.7813</td>\n",
              "      <td>5.438</td>\n",
              "      <td>94.44</td>\n",
              "      <td>0.011490</td>\n",
              "      <td>0.02461</td>\n",
              "      <td>0.05688</td>\n",
              "      <td>0.01885</td>\n",
              "      <td>0.01756</td>\n",
              "      <td>0.005115</td>\n",
              "      <td>22.54</td>\n",
              "      <td>16.67</td>\n",
              "      <td>152.20</td>\n",
              "      <td>1575.0</td>\n",
              "      <td>0.1374</td>\n",
              "      <td>0.2050</td>\n",
              "      <td>0.4000</td>\n",
              "      <td>0.1625</td>\n",
              "      <td>0.2364</td>\n",
              "      <td>0.07678</td>\n",
              "    </tr>\n",
              "  </tbody>\n",
              "</table>\n",
              "</div>"
            ],
            "text/plain": [
              "         id diagnosis  ...  symmetry_worst  fractal_dimension_worst\n",
              "0    842302         M  ...          0.4601                  0.11890\n",
              "1    842517         M  ...          0.2750                  0.08902\n",
              "2  84300903         M  ...          0.3613                  0.08758\n",
              "3  84348301         M  ...          0.6638                  0.17300\n",
              "4  84358402         M  ...          0.2364                  0.07678\n",
              "\n",
              "[5 rows x 32 columns]"
            ]
          },
          "metadata": {
            "tags": []
          },
          "execution_count": 4
        }
      ]
    },
    {
      "cell_type": "code",
      "metadata": {
        "id": "gknxwfKoXxeo",
        "colab": {
          "base_uri": "https://localhost:8080/",
          "height": 297
        },
        "outputId": "8b9f1926-9e43-434b-b4f0-1e80a141cae1"
      },
      "source": [
        "import seaborn as sns\r\n",
        "sns.countplot(x=df[\"diagnosis\"],data=df)"
      ],
      "execution_count": null,
      "outputs": [
        {
          "output_type": "execute_result",
          "data": {
            "text/plain": [
              "<matplotlib.axes._subplots.AxesSubplot at 0x7f1f6af651d0>"
            ]
          },
          "metadata": {
            "tags": []
          },
          "execution_count": 5
        },
        {
          "output_type": "display_data",
          "data": {
            "image/png": "[encoded data removed]",
            "text/plain": [
              "<Figure size 432x288 with 1 Axes>"
            ]
          },
          "metadata": {
            "tags": [],
            "needs_background": "light"
          }
        }
      ]
    },
    {
      "cell_type": "code",
      "metadata": {
        "id": "6yrOvitrpfc7"
      },
      "source": [
        "df = df.replace(to_replace={'B':0,'M':1})"
      ],
      "execution_count": null,
      "outputs": []
    },
    {
      "cell_type": "code",
      "metadata": {
        "colab": {
          "base_uri": "https://localhost:8080/",
          "height": 147
        },
        "id": "l8PAx9N7pt_9",
        "outputId": "f7a5f5c3-a4b7-4f63-b0cd-b99809162edf"
      },
      "source": [
        "df.head(2)"
      ],
      "execution_count": null,
      "outputs": [
        {
          "output_type": "execute_result",
          "data": {
            "text/html": [
              "<div>\n",
              "<style scoped>\n",
              "    .dataframe tbody tr th:only-of-type {\n",
              "        vertical-align: middle;\n",
              "    }\n",
              "\n",
              "    .dataframe tbody tr th {\n",
              "        vertical-align: top;\n",
              "    }\n",
              "\n",
              "    .dataframe thead th {\n",
              "        text-align: right;\n",
              "    }\n",
              "</style>\n",
              "<table border=\"1\" class=\"dataframe\">\n",
              "  <thead>\n",
              "    <tr style=\"text-align: right;\">\n",
              "      <th></th>\n",
              "      <th>id</th>\n",
              "      <th>diagnosis</th>\n",
              "      <th>radius_mean</th>\n",
              "      <th>texture_mean</th>\n",
              "      <th>perimeter_mean</th>\n",
              "      <th>area_mean</th>\n",
              "      <th>smoothness_mean</th>\n",
              "      <th>compactness_mean</th>\n",
              "      <th>concavity_mean</th>\n",
              "      <th>concave points_mean</th>\n",
              "      <th>symmetry_mean</th>\n",
              "      <th>fractal_dimension_mean</th>\n",
              "      <th>radius_se</th>\n",
              "      <th>texture_se</th>\n",
              "      <th>perimeter_se</th>\n",
              "      <th>area_se</th>\n",
              "      <th>smoothness_se</th>\n",
              "      <th>compactness_se</th>\n",
              "      <th>concavity_se</th>\n",
              "      <th>concave points_se</th>\n",
              "      <th>symmetry_se</th>\n",
              "      <th>fractal_dimension_se</th>\n",
              "      <th>radius_worst</th>\n",
              "      <th>texture_worst</th>\n",
              "      <th>perimeter_worst</th>\n",
              "      <th>area_worst</th>\n",
              "      <th>smoothness_worst</th>\n",
              "      <th>compactness_worst</th>\n",
              "      <th>concavity_worst</th>\n",
              "      <th>concave points_worst</th>\n",
              "      <th>symmetry_worst</th>\n",
              "      <th>fractal_dimension_worst</th>\n",
              "    </tr>\n",
              "  </thead>\n",
              "  <tbody>\n",
              "    <tr>\n",
              "      <th>0</th>\n",
              "      <td>842302</td>\n",
              "      <td>1</td>\n",
              "      <td>17.99</td>\n",
              "      <td>10.38</td>\n",
              "      <td>122.8</td>\n",
              "      <td>1001.0</td>\n",
              "      <td>0.11840</td>\n",
              "      <td>0.27760</td>\n",
              "      <td>0.3001</td>\n",
              "      <td>0.14710</td>\n",
              "      <td>0.2419</td>\n",
              "      <td>0.07871</td>\n",
              "      <td>1.0950</td>\n",
              "      <td>0.9053</td>\n",
              "      <td>8.589</td>\n",
              "      <td>153.40</td>\n",
              "      <td>0.006399</td>\n",
              "      <td>0.04904</td>\n",
              "      <td>0.05373</td>\n",
              "      <td>0.01587</td>\n",
              "      <td>0.03003</td>\n",
              "      <td>0.006193</td>\n",
              "      <td>25.38</td>\n",
              "      <td>17.33</td>\n",
              "      <td>184.6</td>\n",
              "      <td>2019.0</td>\n",
              "      <td>0.1622</td>\n",
              "      <td>0.6656</td>\n",
              "      <td>0.7119</td>\n",
              "      <td>0.2654</td>\n",
              "      <td>0.4601</td>\n",
              "      <td>0.11890</td>\n",
              "    </tr>\n",
              "    <tr>\n",
              "      <th>1</th>\n",
              "      <td>842517</td>\n",
              "      <td>1</td>\n",
              "      <td>20.57</td>\n",
              "      <td>17.77</td>\n",
              "      <td>132.9</td>\n",
              "      <td>1326.0</td>\n",
              "      <td>0.08474</td>\n",
              "      <td>0.07864</td>\n",
              "      <td>0.0869</td>\n",
              "      <td>0.07017</td>\n",
              "      <td>0.1812</td>\n",
              "      <td>0.05667</td>\n",
              "      <td>0.5435</td>\n",
              "      <td>0.7339</td>\n",
              "      <td>3.398</td>\n",
              "      <td>74.08</td>\n",
              "      <td>0.005225</td>\n",
              "      <td>0.01308</td>\n",
              "      <td>0.01860</td>\n",
              "      <td>0.01340</td>\n",
              "      <td>0.01389</td>\n",
              "      <td>0.003532</td>\n",
              "      <td>24.99</td>\n",
              "      <td>23.41</td>\n",
              "      <td>158.8</td>\n",
              "      <td>1956.0</td>\n",
              "      <td>0.1238</td>\n",
              "      <td>0.1866</td>\n",
              "      <td>0.2416</td>\n",
              "      <td>0.1860</td>\n",
              "      <td>0.2750</td>\n",
              "      <td>0.08902</td>\n",
              "    </tr>\n",
              "  </tbody>\n",
              "</table>\n",
              "</div>"
            ],
            "text/plain": [
              "       id  diagnosis  ...  symmetry_worst  fractal_dimension_worst\n",
              "0  842302          1  ...          0.4601                  0.11890\n",
              "1  842517          1  ...          0.2750                  0.08902\n",
              "\n",
              "[2 rows x 32 columns]"
            ]
          },
          "metadata": {
            "tags": []
          },
          "execution_count": 7
        }
      ]
    },
    {
      "cell_type": "code",
      "metadata": {
        "id": "g5T39XFWpzyL"
      },
      "source": [
        "X=df.iloc[:,2:-1]\r\n",
        "y=df[\"diagnosis\"]"
      ],
      "execution_count": null,
      "outputs": []
    },
    {
      "cell_type": "code",
      "metadata": {
        "id": "zJEtE6hMX9I3"
      },
      "source": [
        "X_train, X_test, y_train, y_test = train_test_split(X, y, test_size=0.3, random_state=1) "
      ],
      "execution_count": null,
      "outputs": []
    },
    {
      "cell_type": "code",
      "metadata": {
        "colab": {
          "base_uri": "https://localhost:8080/"
        },
        "id": "tuMKEcjoYo7X",
        "outputId": "9e000c5e-cf50-4e8f-b963-815da87bcd8b"
      },
      "source": [
        "a=time.time()\r\n",
        "clf = DecisionTreeClassifier(criterion=\"gini\", max_depth=1)\r\n",
        "clf = clf.fit(X_train,y_train)\r\n",
        "b=time.time()\r\n",
        "t=b-a\r\n",
        "print(\"Time taken\",t,\"sec\")"
      ],
      "execution_count": null,
      "outputs": [
        {
          "output_type": "stream",
          "text": [
            "Time taken 0.01706242561340332 sec\n"
          ],
          "name": "stdout"
        }
      ]
    },
    {
      "cell_type": "code",
      "metadata": {
        "colab": {
          "base_uri": "https://localhost:8080/"
        },
        "id": "0hmLsjZFDshG",
        "outputId": "e2cbaae8-a004-4a23-91da-3dd0c443e6c0"
      },
      "source": [
        "y_pred = clf.predict(X_train)\r\n",
        "print(\"Accuracy:\",metrics.accuracy_score(y_train, y_pred))\r\n",
        "print(\"Training performance\")\r\n",
        "from sklearn import metrics\r\n",
        "expected_y  = y_train\r\n",
        "print(); print(metrics.classification_report(expected_y, y_pred))\r\n",
        "print(); print(metrics.confusion_matrix(expected_y,y_pred))\r\n",
        "print(\"Accuracy:  \",metrics.accuracy_score(expected_y, y_pred))"
      ],
      "execution_count": null,
      "outputs": [
        {
          "output_type": "stream",
          "text": [
            "Accuracy: 0.9309045226130653\n",
            "Training performance\n",
            "\n",
            "              precision    recall  f1-score   support\n",
            "\n",
            "           0       0.92      0.97      0.95       502\n",
            "           1       0.95      0.86      0.90       294\n",
            "\n",
            "    accuracy                           0.93       796\n",
            "   macro avg       0.94      0.92      0.92       796\n",
            "weighted avg       0.93      0.93      0.93       796\n",
            "\n",
            "\n",
            "[[489  13]\n",
            " [ 42 252]]\n",
            "Accuracy:   0.9309045226130653\n"
          ],
          "name": "stdout"
        }
      ]
    },
    {
      "cell_type": "code",
      "metadata": {
        "id": "LgpjRdrTaIZz",
        "colab": {
          "base_uri": "https://localhost:8080/"
        },
        "outputId": "2b14ed67-b3b7-42d1-adf9-12ab0a10cd52"
      },
      "source": [
        "y_pred = clf.predict(X_test)\r\n",
        "print(\"Accuracy:\",metrics.accuracy_score(y_test, y_pred))"
      ],
      "execution_count": null,
      "outputs": [
        {
          "output_type": "stream",
          "text": [
            "Accuracy: 0.9035087719298246\n"
          ],
          "name": "stdout"
        }
      ]
    },
    {
      "cell_type": "code",
      "metadata": {
        "id": "1nMJRF2l89om",
        "colab": {
          "base_uri": "https://localhost:8080/"
        },
        "outputId": "de46f37a-7c54-4790-9de7-c13416f31f28"
      },
      "source": [
        "from sklearn import metrics\r\n",
        "expected_y  = y_test\r\n",
        "print(); print(metrics.classification_report(expected_y, y_pred))\r\n",
        "print(); print(metrics.confusion_matrix(expected_y,y_pred))\r\n",
        "print(\"Accuracy:  \",metrics.accuracy_score(expected_y, y_pred))"
      ],
      "execution_count": null,
      "outputs": [
        {
          "output_type": "stream",
          "text": [
            "\n",
            "              precision    recall  f1-score   support\n",
            "\n",
            "           0       0.89      0.96      0.92       212\n",
            "           1       0.92      0.82      0.87       130\n",
            "\n",
            "    accuracy                           0.90       342\n",
            "   macro avg       0.91      0.89      0.90       342\n",
            "weighted avg       0.90      0.90      0.90       342\n",
            "\n",
            "\n",
            "[[203   9]\n",
            " [ 24 106]]\n",
            "Accuracy:   0.9035087719298246\n"
          ],
          "name": "stdout"
        }
      ]
    },
    {
      "cell_type": "markdown",
      "metadata": {
        "id": "G6kxIfqk_Jo3"
      },
      "source": [
        "*5000* data points dataset with a minimum of 10 feature dimensions."
      ]
    },
    {
      "cell_type": "code",
      "metadata": {
        "id": "ANWaagCf_LMU"
      },
      "source": [
        "df1=pd.read_csv(\"/data (1).csv\")"
      ],
      "execution_count": null,
      "outputs": []
    },
    {
      "cell_type": "code",
      "metadata": {
        "id": "EeduCl1B_z2H"
      },
      "source": [
        "X=df1.iloc[:,2:-1]\r\n",
        "y=df1[\"diagnosis\"]"
      ],
      "execution_count": null,
      "outputs": []
    },
    {
      "cell_type": "code",
      "metadata": {
        "id": "DRASFQqrAH82"
      },
      "source": [
        "X_train, X_test, y_train, y_test = train_test_split(X, y, test_size=0.3, random_state=1) "
      ],
      "execution_count": null,
      "outputs": []
    },
    {
      "cell_type": "code",
      "metadata": {
        "colab": {
          "base_uri": "https://localhost:8080/"
        },
        "id": "0JAG67EZALYb",
        "outputId": "1a40226e-a491-4948-8158-643ddd8c57f1"
      },
      "source": [
        "a=time.time()\r\n",
        "clf = DecisionTreeClassifier(criterion=\"gini\", max_depth=1)\r\n",
        "clf = clf.fit(X_train,y_train)\r\n",
        "b=time.time()\r\n",
        "t=b-a\r\n",
        "print(\"Time taken\",t,\"sec\")"
      ],
      "execution_count": null,
      "outputs": [
        {
          "output_type": "stream",
          "text": [
            "Time taken 0.016208410263061523 sec\n"
          ],
          "name": "stdout"
        }
      ]
    },
    {
      "cell_type": "code",
      "metadata": {
        "colab": {
          "base_uri": "https://localhost:8080/"
        },
        "id": "KLm0Z3RvDqRP",
        "outputId": "6a4150cf-7421-491e-b544-cfd2f2d18970"
      },
      "source": [
        "y_pred = clf.predict(X_train)\r\n",
        "print(\"Accuracy:\",metrics.accuracy_score(y_train, y_pred))\r\n",
        "print(\"Training performance\")\r\n",
        "from sklearn import metrics\r\n",
        "expected_y  = y_train\r\n",
        "print(); print(metrics.classification_report(expected_y, y_pred))\r\n",
        "print(); print(metrics.confusion_matrix(expected_y,y_pred))\r\n",
        "print(\"Accuracy:  \",metrics.accuracy_score(expected_y, y_pred))"
      ],
      "execution_count": null,
      "outputs": [
        {
          "output_type": "stream",
          "text": [
            "Accuracy: 0.9229910714285714\n",
            "Training performance\n",
            "\n",
            "              precision    recall  f1-score   support\n",
            "\n",
            "           B       0.91      0.98      0.94      2249\n",
            "           M       0.95      0.83      0.89      1335\n",
            "\n",
            "    accuracy                           0.92      3584\n",
            "   macro avg       0.93      0.90      0.92      3584\n",
            "weighted avg       0.93      0.92      0.92      3584\n",
            "\n",
            "\n",
            "[[2195   54]\n",
            " [ 222 1113]]\n",
            "Accuracy:   0.9229910714285714\n"
          ],
          "name": "stdout"
        }
      ]
    },
    {
      "cell_type": "code",
      "metadata": {
        "colab": {
          "base_uri": "https://localhost:8080/"
        },
        "id": "ieCYmpHIAN7w",
        "outputId": "f3d59cab-d910-4f56-b819-212aa83eccee"
      },
      "source": [
        "y_pred = clf.predict(X_test)\r\n",
        "print(\"Accuracy:\",metrics.accuracy_score(y_test, y_pred))"
      ],
      "execution_count": null,
      "outputs": [
        {
          "output_type": "stream",
          "text": [
            "Accuracy: 0.9160702667534157\n"
          ],
          "name": "stdout"
        }
      ]
    },
    {
      "cell_type": "code",
      "metadata": {
        "colab": {
          "base_uri": "https://localhost:8080/"
        },
        "id": "HIF9-dJfAR-O",
        "outputId": "0db33e8c-10b1-4983-9674-889af0309094"
      },
      "source": [
        "from sklearn import metrics\r\n",
        "expected_y  = y_test\r\n",
        "print(); print(metrics.classification_report(expected_y, y_pred))\r\n",
        "print(); print(metrics.confusion_matrix(expected_y,y_pred))\r\n",
        "print(\"Accuracy:  \",metrics.accuracy_score(expected_y, y_pred))"
      ],
      "execution_count": null,
      "outputs": [
        {
          "output_type": "stream",
          "text": [
            "\n",
            "              precision    recall  f1-score   support\n",
            "\n",
            "           B       0.89      0.98      0.94       964\n",
            "           M       0.96      0.81      0.88       573\n",
            "\n",
            "    accuracy                           0.92      1537\n",
            "   macro avg       0.93      0.89      0.91      1537\n",
            "weighted avg       0.92      0.92      0.91      1537\n",
            "\n",
            "\n",
            "[[946  18]\n",
            " [111 462]]\n",
            "Accuracy:   0.9160702667534157\n"
          ],
          "name": "stdout"
        }
      ]
    },
    {
      "cell_type": "markdown",
      "metadata": {
        "id": "C4-FFyCbAZbT"
      },
      "source": [
        "10000 data points dataset with a minimum of 10 feature dimensions text"
      ]
    },
    {
      "cell_type": "code",
      "metadata": {
        "id": "A3Meo8j-AX2t"
      },
      "source": [
        "df2=pd.read_csv(\"/data (1) - Copy.csv\")"
      ],
      "execution_count": null,
      "outputs": []
    },
    {
      "cell_type": "code",
      "metadata": {
        "id": "FOixGcUJCFD6"
      },
      "source": [
        "X=df2.iloc[:,2:-1]\r\n",
        "y=df2[\"diagnosis\"]\r\n",
        "X_train, X_test, y_train, y_test = train_test_split(X, y, test_size=0.3, random_state=1) "
      ],
      "execution_count": null,
      "outputs": []
    },
    {
      "cell_type": "code",
      "metadata": {
        "id": "U9ys2Vs_CKtW"
      },
      "source": [
        "X_train, X_test, y_train, y_test = train_test_split(X, y, test_size=0.3, random_state=1) "
      ],
      "execution_count": null,
      "outputs": []
    },
    {
      "cell_type": "code",
      "metadata": {
        "colab": {
          "base_uri": "https://localhost:8080/"
        },
        "id": "fFeuJLB2COR-",
        "outputId": "2e925157-88da-46d4-9379-e891fe7d1679"
      },
      "source": [
        "a=time.time()\r\n",
        "clf = DecisionTreeClassifier(criterion=\"gini\", max_depth=1)\r\n",
        "clf = clf.fit(X_train,y_train)\r\n",
        "b=time.time()\r\n",
        "t=b-a\r\n",
        "print(\"Time taken\",t,\"sec\")"
      ],
      "execution_count": null,
      "outputs": [
        {
          "output_type": "stream",
          "text": [
            "Time taken 0.024265527725219727 sec\n"
          ],
          "name": "stdout"
        }
      ]
    },
    {
      "cell_type": "code",
      "metadata": {
        "colab": {
          "base_uri": "https://localhost:8080/"
        },
        "id": "gWjM50FvCUDo",
        "outputId": "009dea86-1926-474d-c852-62783aa6ed68"
      },
      "source": [
        "y_pred = clf.predict(X_test)\r\n",
        "print(\"Accuracy:\",metrics.accuracy_score(y_test, y_pred))"
      ],
      "execution_count": null,
      "outputs": [
        {
          "output_type": "stream",
          "text": [
            "Accuracy: 0.9238529124633909\n"
          ],
          "name": "stdout"
        }
      ]
    },
    {
      "cell_type": "code",
      "metadata": {
        "colab": {
          "base_uri": "https://localhost:8080/"
        },
        "id": "ZqsioOV8CZOZ",
        "outputId": "d21e484d-8fc1-4e2c-ee43-4e3615d9f572"
      },
      "source": [
        "print(\"Testing performance\")\r\n",
        "from sklearn import metrics\r\n",
        "expected_y  = y_test\r\n",
        "print(); print(metrics.classification_report(expected_y, y_pred))\r\n",
        "print(); print(metrics.confusion_matrix(expected_y,y_pred))\r\n",
        "print(\"Accuracy:  \",metrics.accuracy_score(expected_y, y_pred))"
      ],
      "execution_count": null,
      "outputs": [
        {
          "output_type": "stream",
          "text": [
            "Testing performance\n",
            "\n",
            "              precision    recall  f1-score   support\n",
            "\n",
            "           B       0.92      0.96      0.94      1933\n",
            "           M       0.93      0.86      0.89      1140\n",
            "\n",
            "    accuracy                           0.92      3073\n",
            "   macro avg       0.93      0.91      0.92      3073\n",
            "weighted avg       0.92      0.92      0.92      3073\n",
            "\n",
            "\n",
            "[[1862   71]\n",
            " [ 163  977]]\n",
            "Accuracy:   0.9238529124633909\n"
          ],
          "name": "stdout"
        }
      ]
    },
    {
      "cell_type": "code",
      "metadata": {
        "colab": {
          "base_uri": "https://localhost:8080/"
        },
        "id": "q8gNLRooDMCN",
        "outputId": "365b9e64-45c6-4960-9f89-c5ee2ebca4e6"
      },
      "source": [
        "y_pred = clf.predict(X_train)\r\n",
        "print(\"Accuracy:\",metrics.accuracy_score(y_train, y_pred))\r\n",
        "print(\"Training performance\")\r\n",
        "from sklearn import metrics\r\n",
        "expected_y  = y_train\r\n",
        "print(); print(metrics.classification_report(expected_y, y_pred))\r\n",
        "print(); print(metrics.confusion_matrix(expected_y,y_pred))\r\n",
        "print(\"Accuracy:  \",metrics.accuracy_score(expected_y, y_pred))"
      ],
      "execution_count": null,
      "outputs": [
        {
          "output_type": "stream",
          "text": [
            "Accuracy: 0.9221648765518203\n",
            "Training performance\n",
            "\n",
            "              precision    recall  f1-score   support\n",
            "\n",
            "           B       0.91      0.97      0.94      4493\n",
            "           M       0.95      0.84      0.89      2676\n",
            "\n",
            "    accuracy                           0.92      7169\n",
            "   macro avg       0.93      0.91      0.91      7169\n",
            "weighted avg       0.92      0.92      0.92      7169\n",
            "\n",
            "\n",
            "[[4366  127]\n",
            " [ 431 2245]]\n",
            "Accuracy:   0.9221648765518203\n"
          ],
          "name": "stdout"
        }
      ]
    },
    {
      "cell_type": "code",
      "metadata": {
        "id": "LjxyHWXGEVZV",
        "colab": {
          "base_uri": "https://localhost:8080/",
          "height": 350
        },
        "outputId": "39118b9c-6afd-4f86-f4d1-c2cc2b31ef2d"
      },
      "source": [
        "import matplotlib.pyplot as plt\r\n",
        "fig = plt.figure()\r\n",
        "ax = fig.add_axes([0,0,1,1])\r\n",
        "langs = ['0','1000','5000','10000']\r\n",
        "students = ['0','0.003','0.008','0.01']\r\n",
        "ax.bar(langs,students)\r\n",
        "plt.ylabel('Learning Time', fontweight='bold')\r\n",
        "plt.xlabel('Data points', fontweight='bold')\r\n",
        "plt.show()"
      ],
      "execution_count": 35,
      "outputs": [
        {
          "output_type": "display_data",
          "data": {
            "image/png": "[encoded data removed]",
            "text/plain": [
              "<Figure size 432x288 with 1 Axes>"
            ]
          },
          "metadata": {
            "tags": [],
            "needs_background": "light"
          }
        }
      ]
    },
    {
      "cell_type": "code",
      "metadata": {
        "id": "SmogG3PRvWJj",
        "colab": {
          "base_uri": "https://localhost:8080/"
        },
        "outputId": "b3e308a5-686b-4fb6-a8fd-75f19d6d7e0f"
      },
      "source": [
        "clf"
      ],
      "execution_count": 34,
      "outputs": [
        {
          "output_type": "execute_result",
          "data": {
            "text/plain": [
              "DecisionTreeClassifier(ccp_alpha=0.0, class_weight=None, criterion='gini',\n",
              "                       max_depth=1, max_features=None, max_leaf_nodes=None,\n",
              "                       min_impurity_decrease=0.0, min_impurity_split=None,\n",
              "                       min_samples_leaf=1, min_samples_split=2,\n",
              "                       min_weight_fraction_leaf=0.0, presort='deprecated',\n",
              "                       random_state=None, splitter='best')"
            ]
          },
          "metadata": {
            "tags": []
          },
          "execution_count": 34
        }
      ]
    }
  ]
}